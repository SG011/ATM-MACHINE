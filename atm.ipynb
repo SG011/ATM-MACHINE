{
 "cells": [
  {
   "cell_type": "markdown",
   "metadata": {},
   "source": [
    "# ATM MACHINE"
   ]
  },
  {
   "cell_type": "code",
   "execution_count": 1,
   "metadata": {},
   "outputs": [],
   "source": [
    "class Atm:\n",
    "    def __init__(self):\n",
    "        self.pin = \"\"\n",
    "        self.balance = 0\n",
    "        self.menu()\n",
    "        \n",
    "        \n",
    "    def menu(self):\n",
    "        user_input = input(\n",
    "            \"\"\"\n",
    "            Hi how can I help you?\n",
    "            \n",
    "            1. Press 1 to create pin\n",
    "            2. Press 2 to change pin\n",
    "            3. Press 3 to check balance\n",
    "            4. Press 4 to withdraw\n",
    "            5. Anything to exit\n",
    "            \"\"\"\n",
    "        )\n",
    "        \n",
    "        if user_input == '1':\n",
    "            #create a pin\n",
    "            self.create_pin()\n",
    "            \n",
    "        elif user_input == '2':\n",
    "            #change pin\n",
    "            self.change_pin()\n",
    "            \n",
    "        elif user_input == '3':\n",
    "            #check balance\n",
    "            self.check_balance()\n",
    "            \n",
    "        elif user_input == '4':\n",
    "            #withdraw\n",
    "            self.withdraw()\n",
    "            \n",
    "        else:\n",
    "            exit()\n",
    "            \n",
    "    def create_pin(self):\n",
    "        user_pin = input(\"Enter your pin: \")\n",
    "        self.pin = user_pin\n",
    "        \n",
    "        user_balance = int(input(\"Enter Balance: \"))\n",
    "        self.balance = user_balance\n",
    "        \n",
    "        print(\"Pin created Successfully!\")\n",
    "        self.menu()\n",
    "    \n",
    "    def change_pin(self):\n",
    "        old_pin = input(\"Enter old pin: \")\n",
    "        \n",
    "        if old_pin == \"\" or old_pin == self.pin:\n",
    "            new_pin = input(\"Enter new pin: \")\n",
    "            self.pin = new_pin\n",
    "            print(\"Pin changed successfully\")\n",
    "            self.menu()\n",
    "            \n",
    "        else:\n",
    "            print(\"Wrong pin, please check again\")\n",
    "            self.menu\n",
    "    \n",
    "    def check_balance(self):\n",
    "        user_pin = input(\"Enter your pin: \")\n",
    "        if user_pin == self.pin:\n",
    "            print(f\"Your balance is {self.balance}\")\n",
    "        else:\n",
    "            print(\"Your pin is not correct, please try again\")\n",
    "            \n",
    "        self.menu()\n",
    "    \n",
    "    def withdraw(self):\n",
    "        user_pin = input(\"Enter your pin: \")\n",
    "        if user_pin == self.pin:\n",
    "            # Allow to withdraw\n",
    "            amount = int(input(\"Enter the amount: \"))\n",
    "            if amount <= self.balance:\n",
    "                self.balance -= amount\n",
    "                print(f\"Withdraw successful and the current balance is {self.balance}\")\n",
    "            else:\n",
    "                print(\"Insufficient Bank balance\")\n",
    "                \n",
    "        else:\n",
    "            print(\"Your pin is wrong!\")\n",
    "        self.menu()\n",
    "    "
   ]
  },
  {
   "cell_type": "code",
   "execution_count": 2,
   "metadata": {},
   "outputs": [
    {
     "name": "stdout",
     "output_type": "stream",
     "text": [
      "Pin created Successfully!\n",
      "Pin changed successfully\n",
      "Your balance is 10000\n",
      "Withdraw successful and the current balance is 5000\n",
      "Your balance is 5000\n",
      "Your pin is wrong!\n",
      "Insufficient Bank balance\n",
      "Your balance is 5000\n",
      "Your pin is wrong!\n",
      "Insufficient Bank balance\n"
     ]
    },
    {
     "ename": "",
     "evalue": "",
     "output_type": "error",
     "traceback": [
      "\u001b[1;31mThe Kernel crashed while executing code in the current cell or a previous cell. \n",
      "\u001b[1;31mPlease review the code in the cell(s) to identify a possible cause of the failure. \n",
      "\u001b[1;31mClick <a href='https://aka.ms/vscodeJupyterKernelCrash'>here</a> for more info. \n",
      "\u001b[1;31mView Jupyter <a href='command:jupyter.viewOutput'>log</a> for further details."
     ]
    }
   ],
   "source": [
    "obj = Atm()"
   ]
  },
  {
   "cell_type": "code",
   "execution_count": null,
   "metadata": {},
   "outputs": [],
   "source": []
  }
 ],
 "metadata": {
  "kernelspec": {
   "display_name": "base",
   "language": "python",
   "name": "python3"
  },
  "language_info": {
   "codemirror_mode": {
    "name": "ipython",
    "version": 3
   },
   "file_extension": ".py",
   "mimetype": "text/x-python",
   "name": "python",
   "nbconvert_exporter": "python",
   "pygments_lexer": "ipython3",
   "version": "3.11.7"
  }
 },
 "nbformat": 4,
 "nbformat_minor": 2
}
